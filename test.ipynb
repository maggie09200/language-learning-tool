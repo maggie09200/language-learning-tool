{
 "cells": [
  {
   "cell_type": "code",
   "execution_count": null,
   "id": "bb1f1418",
   "metadata": {},
   "outputs": [],
   "source": [
    "def get_answer_from_db(question,direction):\n",
    "    session = SessionLocal()\n",
    "    record = session.query(QARecord).filter_by(QARecord.question == question, QARecord.direction == QARecord.direction).first()\n",
    "    session.close()\n",
    "    if record:\n",
    "        return record.answer\n",
    "    return None"
   ]
  }
 ],
 "metadata": {
  "language_info": {
   "name": "python"
  }
 },
 "nbformat": 4,
 "nbformat_minor": 5
}
